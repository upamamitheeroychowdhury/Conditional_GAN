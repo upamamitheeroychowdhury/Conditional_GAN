{
 "cells": [
  {
   "cell_type": "code",
   "execution_count": 1,
   "metadata": {
    "colab": {
     "base_uri": "https://localhost:8080/"
    },
    "executionInfo": {
     "elapsed": 4175,
     "status": "ok",
     "timestamp": 1669004758459,
     "user": {
      "displayName": "17_037 Upama Roy Chowdhury",
      "userId": "08603220032487342829"
     },
     "user_tz": -360
    },
    "id": "LMKdBGRTIvYj",
    "outputId": "596c9bd7-a08d-4756-8307-3a30f147173b"
   },
   "outputs": [
    {
     "name": "stdout",
     "output_type": "stream",
     "text": [
      "Looking in indexes: https://pypi.org/simple, https://us-python.pkg.dev/colab-wheels/public/simple/\n",
      "Requirement already satisfied: shap in /usr/local/lib/python3.7/dist-packages (0.41.0)\n",
      "Requirement already satisfied: numba in /usr/local/lib/python3.7/dist-packages (from shap) (0.56.4)\n",
      "Requirement already satisfied: pandas in /usr/local/lib/python3.7/dist-packages (from shap) (1.3.5)\n",
      "Requirement already satisfied: scikit-learn in /usr/local/lib/python3.7/dist-packages (from shap) (1.0.2)\n",
      "Requirement already satisfied: numpy in /usr/local/lib/python3.7/dist-packages (from shap) (1.21.6)\n",
      "Requirement already satisfied: scipy in /usr/local/lib/python3.7/dist-packages (from shap) (1.7.3)\n",
      "Requirement already satisfied: packaging>20.9 in /usr/local/lib/python3.7/dist-packages (from shap) (21.3)\n",
      "Requirement already satisfied: tqdm>4.25.0 in /usr/local/lib/python3.7/dist-packages (from shap) (4.64.1)\n",
      "Requirement already satisfied: slicer==0.0.7 in /usr/local/lib/python3.7/dist-packages (from shap) (0.0.7)\n",
      "Requirement already satisfied: cloudpickle in /usr/local/lib/python3.7/dist-packages (from shap) (1.5.0)\n",
      "Requirement already satisfied: pyparsing!=3.0.5,>=2.0.2 in /usr/local/lib/python3.7/dist-packages (from packaging>20.9->shap) (3.0.9)\n",
      "Requirement already satisfied: setuptools in /usr/local/lib/python3.7/dist-packages (from numba->shap) (57.4.0)\n",
      "Requirement already satisfied: llvmlite<0.40,>=0.39.0dev0 in /usr/local/lib/python3.7/dist-packages (from numba->shap) (0.39.1)\n",
      "Requirement already satisfied: importlib-metadata in /usr/local/lib/python3.7/dist-packages (from numba->shap) (4.13.0)\n",
      "Requirement already satisfied: typing-extensions>=3.6.4 in /usr/local/lib/python3.7/dist-packages (from importlib-metadata->numba->shap) (4.1.1)\n",
      "Requirement already satisfied: zipp>=0.5 in /usr/local/lib/python3.7/dist-packages (from importlib-metadata->numba->shap) (3.10.0)\n",
      "Requirement already satisfied: python-dateutil>=2.7.3 in /usr/local/lib/python3.7/dist-packages (from pandas->shap) (2.8.2)\n",
      "Requirement already satisfied: pytz>=2017.3 in /usr/local/lib/python3.7/dist-packages (from pandas->shap) (2022.6)\n",
      "Requirement already satisfied: six>=1.5 in /usr/local/lib/python3.7/dist-packages (from python-dateutil>=2.7.3->pandas->shap) (1.15.0)\n",
      "Requirement already satisfied: joblib>=0.11 in /usr/local/lib/python3.7/dist-packages (from scikit-learn->shap) (1.2.0)\n",
      "Requirement already satisfied: threadpoolctl>=2.0.0 in /usr/local/lib/python3.7/dist-packages (from scikit-learn->shap) (3.1.0)\n"
     ]
    }
   ],
   "source": [
    "!pip install shap"
   ]
  },
  {
   "cell_type": "code",
   "execution_count": 59,
   "metadata": {
    "executionInfo": {
     "elapsed": 11879,
     "status": "ok",
     "timestamp": 1669004770335,
     "user": {
      "displayName": "17_037 Upama Roy Chowdhury",
      "userId": "08603220032487342829"
     },
     "user_tz": -360
    },
    "id": "CqZkd58KQcZX"
   },
   "outputs": [],
   "source": [
    "import numpy as np # linear algebra\n",
    "import pandas as pd # data processing, CSV file I/O (e.g. pd.read_csv)\n",
    "\n",
    "import os\n",
    "\n",
    "\n",
    "import copy\n",
    "import warnings\n",
    "warnings.filterwarnings('ignore')\n",
    "\n",
    "import cv2\n",
    "import keras\n",
    "from keras.preprocessing.image import ImageDataGenerator\n",
    "import matplotlib\n",
    "import matplotlib.pylab as plt\n",
    "import numpy as np\n",
    "import seaborn as sns\n",
    "import shap\n",
    "from sklearn.utils import shuffle\n",
    "from sklearn.metrics import confusion_matrix\n",
    "from sklearn.model_selection import train_test_split\n",
    "\n",
    "from keras.applications.vgg16 import VGG16,preprocess_input\n"
   ]
  },
  {
   "cell_type": "code",
   "execution_count": 60,
   "metadata": {
    "executionInfo": {
     "elapsed": 23,
     "status": "ok",
     "timestamp": 1669004770336,
     "user": {
      "displayName": "17_037 Upama Roy Chowdhury",
      "userId": "08603220032487342829"
     },
     "user_tz": -360
    },
    "id": "v9Boxjk3RD3v"
   },
   "outputs": [],
   "source": [
    "from tensorflow.keras.utils import load_img\n",
    "from tensorflow.keras.utils import img_to_array"
   ]
  },
  {
   "cell_type": "code",
   "execution_count": 156,
   "metadata": {
    "colab": {
     "base_uri": "https://localhost:8080/"
    },
    "executionInfo": {
     "elapsed": 22,
     "status": "ok",
     "timestamp": 1669004770336,
     "user": {
      "displayName": "17_037 Upama Roy Chowdhury",
      "userId": "08603220032487342829"
     },
     "user_tz": -360
    },
    "id": "BMaE7hVcWfOv",
    "outputId": "88346532-20ef-4794-8a2c-c58e446aaadc"
   },
   "outputs": [
    {
     "data": {
      "text/plain": [
       "['MildDemented', 'ModerateDemented', 'NonDemented', 'VeryMildDemented']"
      ]
     },
     "execution_count": 156,
     "metadata": {},
     "output_type": "execute_result"
    }
   ],
   "source": [
    "os.listdir('Alzheimer_s Dataset/train')\n",
    "os.listdir('Alzheimer_s Dataset/test')"
   ]
  },
  {
   "cell_type": "code",
   "execution_count": 157,
   "metadata": {
    "executionInfo": {
     "elapsed": 713,
     "status": "ok",
     "timestamp": 1669004778520,
     "user": {
      "displayName": "17_037 Upama Roy Chowdhury",
      "userId": "08603220032487342829"
     },
     "user_tz": -360
    },
    "id": "eKB7sB6TKQRn"
   },
   "outputs": [],
   "source": [
    "W = 224 # The default size for ResNet is 224 but resize to .5 to save memory size\n",
    "H = 224 # The default size for ResNet is 224 but resize to .5 to save memory size\n",
    "\n",
    "label_to_class = {\n",
    "    'MildDemented': 0,\n",
    "    'ModerateDemented': 1,\n",
    "    'NonDemented': 2,\n",
    "    'VeryMildDemented':3\n",
    "    \n",
    "\n",
    "}\n",
    "class_to_label = {v: k for k, v in label_to_class.items()}\n",
    "n_classes = len(label_to_class)\n",
    "\n",
    "def get_images(data_type, dir_name='Alzheimer_s Dataset', label_to_class=label_to_class,): #'/train','/test'\n",
    "    \"\"\"read images / labels from directory\"\"\"\n",
    "    \n",
    "    Images = []\n",
    "    Classes = []\n",
    "    \n",
    "    for j in [data_type]: #'/train' was removed for testing purposes\n",
    "        for label_name in os.listdir(dir_name+str(j)):\n",
    "            cls = label_to_class[label_name]\n",
    "\n",
    "            for img_name in os.listdir('/'.join([dir_name+str(j), label_name])):\n",
    "                img = load_img('/'.join([dir_name+str(j), label_name, img_name]), target_size=(W, H))\n",
    "                #img = img_to_array(img)\n",
    "                img = np.array(img)\n",
    "\n",
    "                Images.append(img)\n",
    "                Classes.append(cls)\n",
    "            \n",
    "    Images = np.array(Images) #Don't convert data type to float32\n",
    "    Classes = np.array(Classes)\n",
    "    Images, Classes = shuffle(Images, Classes, random_state=0)\n",
    "    \n",
    "    return Images, Classes"
   ]
  },
  {
   "cell_type": "code",
   "execution_count": 159,
   "metadata": {
    "colab": {
     "base_uri": "https://localhost:8080/"
    },
    "executionInfo": {
     "elapsed": 23802,
     "status": "ok",
     "timestamp": 1669004802321,
     "user": {
      "displayName": "17_037 Upama Roy Chowdhury",
      "userId": "08603220032487342829"
     },
     "user_tz": -360
    },
    "id": "Vt-7FKYTJwd4",
    "outputId": "b77ae3c8-6471-4793-c087-aa86ff177e59"
   },
   "outputs": [
    {
     "data": {
      "text/plain": [
       "((5121, 224, 224, 3), (5121, 1))"
      ]
     },
     "execution_count": 159,
     "metadata": {},
     "output_type": "execute_result"
    }
   ],
   "source": [
    "trainX, trainy = get_images(data_type='/train')\n",
    "\n",
    "trainy = trainy.reshape(-1, 1)\n",
    "\n",
    "trainX.shape, trainy.shape"
   ]
  },
  {
   "cell_type": "code",
   "execution_count": 146,
   "metadata": {},
   "outputs": [
    {
     "data": {
      "text/plain": [
       "numpy.ndarray"
      ]
     },
     "execution_count": 146,
     "metadata": {},
     "output_type": "execute_result"
    }
   ],
   "source": [
    "type(Classes)"
   ]
  },
  {
   "cell_type": "code",
   "execution_count": null,
   "metadata": {},
   "outputs": [],
   "source": []
  },
  {
   "cell_type": "code",
   "execution_count": 65,
   "metadata": {
    "executionInfo": {
     "elapsed": 33,
     "status": "ok",
     "timestamp": 1669004802323,
     "user": {
      "displayName": "17_037 Upama Roy Chowdhury",
      "userId": "08603220032487342829"
     },
     "user_tz": -360
    },
    "id": "fj8Ldjr-Uh_P"
   },
   "outputs": [],
   "source": [
    "def visualize(dir_name):\n",
    "    list_dir=os.listdir(dir_name)\n",
    "    plt.figure(figsize=(14,8))\n",
    "    for i in range(1,7):\n",
    "        plt.subplot(2,3,i)\n",
    "        img= plt.imread(os.path.join(dir_name,list_dir[i]))\n",
    "        plt.imshow(img,cmap='gray')\n",
    "        plt.axis('off')\n",
    "    plt.tight_layout()\n",
    "    plt.show()\n"
   ]
  },
  {
   "cell_type": "code",
   "execution_count": 66,
   "metadata": {
    "colab": {
     "base_uri": "https://localhost:8080/"
    },
    "executionInfo": {
     "elapsed": 33,
     "status": "ok",
     "timestamp": 1669004802324,
     "user": {
      "displayName": "17_037 Upama Roy Chowdhury",
      "userId": "08603220032487342829"
     },
     "user_tz": -360
    },
    "id": "KzjwR16BVL_3",
    "outputId": "86d31ae4-5e51-473d-9b65-52e5e03c0ba8"
   },
   "outputs": [
    {
     "data": {
      "text/plain": [
       "((5120, 224, 224, 3), (5120,), (1280, 224, 224, 3), (1280,))"
      ]
     },
     "execution_count": 66,
     "metadata": {},
     "output_type": "execute_result"
    }
   ],
   "source": [
    "indices_train, indices_test = train_test_split(list(range(Images.shape[0])), train_size=0.8, test_size=0.2, shuffle=False)\n",
    "\n",
    "x_train = Images[indices_train]\n",
    "y_train = Classes[indices_train]\n",
    "x_test = Images[indices_test]\n",
    "y_test = Classes[indices_test]\n",
    "\n",
    "x_train.shape, y_train.shape, x_test.shape, y_test.shape"
   ]
  },
  {
   "cell_type": "code",
   "execution_count": 67,
   "metadata": {
    "executionInfo": {
     "elapsed": 31,
     "status": "ok",
     "timestamp": 1669004802324,
     "user": {
      "displayName": "17_037 Upama Roy Chowdhury",
      "userId": "08603220032487342829"
     },
     "user_tz": -360
    },
    "id": "UTL7Lw5wVUXl"
   },
   "outputs": [],
   "source": [
    "from sklearn.utils import class_weight\n",
    "\n",
    "class_weights = class_weight.compute_class_weight(class_weight = \"balanced\",\n",
    "                                        classes = np.unique(y_train),\n",
    "                                        y = y_train)"
   ]
  },
  {
   "cell_type": "code",
   "execution_count": 68,
   "metadata": {
    "executionInfo": {
     "elapsed": 32,
     "status": "ok",
     "timestamp": 1669004802325,
     "user": {
      "displayName": "17_037 Upama Roy Chowdhury",
      "userId": "08603220032487342829"
     },
     "user_tz": -360
    },
    "id": "qQJh_N7bVYQF"
   },
   "outputs": [],
   "source": [
    "from keras.utils import np_utils"
   ]
  },
  {
   "cell_type": "code",
   "execution_count": 69,
   "metadata": {
    "colab": {
     "base_uri": "https://localhost:8080/"
    },
    "executionInfo": {
     "elapsed": 31,
     "status": "ok",
     "timestamp": 1669004802325,
     "user": {
      "displayName": "17_037 Upama Roy Chowdhury",
      "userId": "08603220032487342829"
     },
     "user_tz": -360
    },
    "id": "LLyXV0l_VisO",
    "outputId": "e017ac6e-f330-4135-860f-68b9a808fe8a"
   },
   "outputs": [
    {
     "data": {
      "text/plain": [
       "((5120, 4), (1280, 4))"
      ]
     },
     "execution_count": 69,
     "metadata": {},
     "output_type": "execute_result"
    }
   ],
   "source": [
    "## to one-hot\n",
    "\n",
    "y_train = keras.utils.np_utils.to_categorical(y_train, n_classes)\n",
    "y_test = keras.utils.np_utils.to_categorical(y_test, n_classes)\n",
    "\n",
    "y_train.shape, y_test.shape"
   ]
  },
  {
   "cell_type": "code",
   "execution_count": 70,
   "metadata": {
    "executionInfo": {
     "elapsed": 29,
     "status": "ok",
     "timestamp": 1669004802326,
     "user": {
      "displayName": "17_037 Upama Roy Chowdhury",
      "userId": "08603220032487342829"
     },
     "user_tz": -360
    },
    "id": "Z8Eyh8tHrSx8"
   },
   "outputs": [],
   "source": [
    "datagen_train = ImageDataGenerator(\n",
    "    preprocessing_function=preprocess_input, # image preprocessing function\n",
    "    rotation_range=30,                       # randomly rotate images in the range\n",
    "    zoom_range=0.1,                          # Randomly zoom image\n",
    "    width_shift_range=0.1,                   # randomly shift images horizontally\n",
    "    height_shift_range=0.1,                  # randomly shift images vertically\n",
    "    horizontal_flip=True,                    # randomly flip images horizontally\n",
    "    vertical_flip=False,                     # randomly flip images vertically\n",
    ")\n",
    "datagen_test = ImageDataGenerator(\n",
    "    preprocessing_function=preprocess_input, # image preprocessing function\n",
    "\n",
    "\n",
    ")"
   ]
  },
  {
   "cell_type": "code",
   "execution_count": 71,
   "metadata": {
    "executionInfo": {
     "elapsed": 30,
     "status": "ok",
     "timestamp": 1669004802327,
     "user": {
      "displayName": "17_037 Upama Roy Chowdhury",
      "userId": "08603220032487342829"
     },
     "user_tz": -360
    },
    "id": "x4-SM2hA8bmr"
   },
   "outputs": [],
   "source": [
    "import matplotlib\n",
    "import matplotlib.pyplot as plt"
   ]
  },
  {
   "cell_type": "code",
   "execution_count": 72,
   "metadata": {
    "colab": {
     "base_uri": "https://localhost:8080/",
     "height": 152
    },
    "executionInfo": {
     "elapsed": 32,
     "status": "ok",
     "timestamp": 1669004802329,
     "user": {
      "displayName": "17_037 Upama Roy Chowdhury",
      "userId": "08603220032487342829"
     },
     "user_tz": -360
    },
    "id": "7F6xdsLT_oT8",
    "outputId": "37fef06d-e6c4-4fb1-b06f-23ea6817ff9b"
   },
   "outputs": [
    {
     "data": {
      "image/png": "[encoded data removed]",
      "text/plain": [
       "<Figure size 1000x1000 with 4 Axes>"
      ]
     },
     "metadata": {},
     "output_type": "display_data"
    }
   ],
   "source": [
    "import matplotlib.pyplot as plt\n",
    "plt.figure(figsize=(10, 10))\n",
    "for i in range(4):\n",
    "    plt.subplot(1, 4, i+1)\n",
    "    plt.imshow(x_train[i], cmap=\"gray\")\n",
    "    plt.axis('off')\n",
    "plt.show()"
   ]
  },
  {
   "cell_type": "code",
   "execution_count": 73,
   "metadata": {
    "colab": {
     "base_uri": "https://localhost:8080/",
     "height": 286
    },
    "executionInfo": {
     "elapsed": 20,
     "status": "ok",
     "timestamp": 1669004802330,
     "user": {
      "displayName": "17_037 Upama Roy Chowdhury",
      "userId": "08603220032487342829"
     },
     "user_tz": -360
    },
    "id": "8IYOuvhU68VY",
    "outputId": "e58a9855-9119-4101-9ec8-0e4a935f742b"
   },
   "outputs": [
    {
     "data": {
      "text/plain": [
       "<matplotlib.image.AxesImage at 0x1bb700f6470>"
      ]
     },
     "execution_count": 73,
     "metadata": {},
     "output_type": "execute_result"
    },
    {
     "data": {
      "image/png": "[encoded data removed]",
      "text/plain": [
       "<Figure size 640x480 with 1 Axes>"
      ]
     },
     "metadata": {},
     "output_type": "display_data"
    }
   ],
   "source": [
    "#testing purposes\n",
    "from keras.backend_config import image_data_format\n",
    "img = x_train[6]\n",
    "#img = load_img('/content/drive/MyDrive/GAN Practice/alzeimher/Alzheimer_s Dataset/train/MildDemented/mildDem0.jpg')\n",
    "#img = np.array(img)\n",
    "plt.imshow(img)"
   ]
  },
  {
   "cell_type": "code",
   "execution_count": 74,
   "metadata": {
    "colab": {
     "base_uri": "https://localhost:8080/"
    },
    "executionInfo": {
     "elapsed": 806,
     "status": "ok",
     "timestamp": 1669004803119,
     "user": {
      "displayName": "17_037 Upama Roy Chowdhury",
      "userId": "08603220032487342829"
     },
     "user_tz": -360
    },
    "id": "ISCHaF5jRZZL",
    "outputId": "688b87b0-ac99-412f-b9b0-37c917bd28b4"
   },
   "outputs": [
    {
     "name": "stdout",
     "output_type": "stream",
     "text": [
      "Found 5121 images belonging to 4 classes.\n"
     ]
    }
   ],
   "source": [
    "data_flow = datagen_train.flow_from_directory('Alzheimer_s Dataset/train',\n",
    "                                  target_size=(224, 224),\n",
    "                                  batch_size=32)\n"
   ]
  },
  {
   "cell_type": "code",
   "execution_count": 75,
   "metadata": {},
   "outputs": [
    {
     "name": "stdout",
     "output_type": "stream",
     "text": [
      "Requirement already satisfied: python-git in c:\\users\\guest-ccc\\anaconda3\\envs\\deeplearning2\\lib\\site-packages (2018.2.1)\n",
      "Requirement already satisfied: send2trash in c:\\users\\guest-ccc\\anaconda3\\envs\\deeplearning2\\lib\\site-packages (from python-git) (1.8.0)\n"
     ]
    }
   ],
   "source": [
    "!pip install python-git"
   ]
  },
  {
   "cell_type": "code",
   "execution_count": 76,
   "metadata": {
    "scrolled": true
   },
   "outputs": [
    {
     "name": "stdout",
     "output_type": "stream",
     "text": [
      "Collecting git+https://github.com/tensorflow/docs\n",
      "  Cloning https://github.com/tensorflow/docs to c:\\users\\guest-ccc\\appdata\\local\\temp\\pip-req-build-zfdkcpsi\n",
      "  Resolved https://github.com/tensorflow/docs to commit d09c37be055698bf6d08aff1c79d5d44492d9f52\n",
      "  Preparing metadata (setup.py): started\n",
      "  Preparing metadata (setup.py): finished with status 'done'\n",
      "Requirement already satisfied: astor in c:\\users\\guest-ccc\\anaconda3\\envs\\deeplearning2\\lib\\site-packages (from tensorflow-docs==0.0.0.dev0) (0.8.1)\n",
      "Requirement already satisfied: absl-py in c:\\users\\guest-ccc\\anaconda3\\envs\\deeplearning2\\lib\\site-packages (from tensorflow-docs==0.0.0.dev0) (1.3.0)\n",
      "Requirement already satisfied: jinja2 in c:\\users\\guest-ccc\\anaconda3\\envs\\deeplearning2\\lib\\site-packages (from tensorflow-docs==0.0.0.dev0) (3.1.2)\n",
      "Requirement already satisfied: nbformat in c:\\users\\guest-ccc\\anaconda3\\envs\\deeplearning2\\lib\\site-packages (from tensorflow-docs==0.0.0.dev0) (5.7.0)\n",
      "Requirement already satisfied: protobuf<3.20,>=3.12.0 in c:\\users\\guest-ccc\\anaconda3\\envs\\deeplearning2\\lib\\site-packages (from tensorflow-docs==0.0.0.dev0) (3.19.6)\n",
      "Requirement already satisfied: pyyaml in c:\\users\\guest-ccc\\anaconda3\\envs\\deeplearning2\\lib\\site-packages (from tensorflow-docs==0.0.0.dev0) (6.0)\n",
      "Requirement already satisfied: MarkupSafe>=2.0 in c:\\users\\guest-ccc\\anaconda3\\envs\\deeplearning2\\lib\\site-packages (from jinja2->tensorflow-docs==0.0.0.dev0) (2.1.1)\n",
      "Requirement already satisfied: fastjsonschema in c:\\users\\guest-ccc\\anaconda3\\envs\\deeplearning2\\lib\\site-packages (from nbformat->tensorflow-docs==0.0.0.dev0) (2.16.2)\n",
      "Requirement already satisfied: traitlets>=5.1 in c:\\users\\guest-ccc\\anaconda3\\envs\\deeplearning2\\lib\\site-packages (from nbformat->tensorflow-docs==0.0.0.dev0) (5.6.0)\n",
      "Requirement already satisfied: jsonschema>=2.6 in c:\\users\\guest-ccc\\anaconda3\\envs\\deeplearning2\\lib\\site-packages (from nbformat->tensorflow-docs==0.0.0.dev0) (4.17.3)\n",
      "Requirement already satisfied: jupyter-core in c:\\users\\guest-ccc\\anaconda3\\envs\\deeplearning2\\lib\\site-packages (from nbformat->tensorflow-docs==0.0.0.dev0) (5.1.0)\n",
      "Requirement already satisfied: pyrsistent!=0.17.0,!=0.17.1,!=0.17.2,>=0.14.0 in c:\\users\\guest-ccc\\anaconda3\\envs\\deeplearning2\\lib\\site-packages (from jsonschema>=2.6->nbformat->tensorflow-docs==0.0.0.dev0) (0.19.2)\n",
      "Requirement already satisfied: attrs>=17.4.0 in c:\\users\\guest-ccc\\anaconda3\\envs\\deeplearning2\\lib\\site-packages (from jsonschema>=2.6->nbformat->tensorflow-docs==0.0.0.dev0) (22.1.0)\n",
      "Requirement already satisfied: pywin32>=1.0 in c:\\users\\guest-ccc\\anaconda3\\envs\\deeplearning2\\lib\\site-packages (from jupyter-core->nbformat->tensorflow-docs==0.0.0.dev0) (305)\n",
      "Requirement already satisfied: platformdirs>=2.5 in c:\\users\\guest-ccc\\anaconda3\\envs\\deeplearning2\\lib\\site-packages (from jupyter-core->nbformat->tensorflow-docs==0.0.0.dev0) (2.5.4)\n"
     ]
    },
    {
     "name": "stderr",
     "output_type": "stream",
     "text": [
      "  Running command git clone --filter=blob:none --quiet https://github.com/tensorflow/docs 'C:\\Users\\Guest-ccc\\AppData\\Local\\Temp\\pip-req-build-zfdkcpsi'\n"
     ]
    }
   ],
   "source": [
    "!pip install \"git+https://github.com/tensorflow/docs\""
   ]
  },
  {
   "cell_type": "code",
   "execution_count": 31,
   "metadata": {
    "executionInfo": {
     "elapsed": 11892,
     "status": "ok",
     "timestamp": 1669004815009,
     "user": {
      "displayName": "17_037 Upama Roy Chowdhury",
      "userId": "08603220032487342829"
     },
     "user_tz": -360
    },
    "id": "kmboufZCICcX"
   },
   "outputs": [
    {
     "name": "stderr",
     "output_type": "stream",
     "text": [
      "  ERROR: Error [WinError 2] The system cannot find the file specified while executing command git version\n",
      "ERROR: Cannot find command 'git' - do you have 'git' installed and in your PATH?\n"
     ]
    }
   ],
   "source": [
    "!pip install -q git+https://github.com/tensorflow/docs"
   ]
  },
  {
   "cell_type": "code",
   "execution_count": 123,
   "metadata": {},
   "outputs": [],
   "source": [
    "from numpy import zeros\n",
    "from numpy import ones\n",
    "from numpy.random import randn\n",
    "from numpy.random import randint"
   ]
  },
  {
   "cell_type": "code",
   "execution_count": 124,
   "metadata": {},
   "outputs": [],
   "source": [
    "from keras.optimizers import Adam\n",
    "from keras.models import Model\n",
    "from keras.layers import Input\n",
    "from keras.layers import Dense\n",
    "from keras.layers import Reshape\n",
    "from keras.layers import Flatten\n",
    "from keras.layers import Conv2D\n",
    "from keras.layers import Conv2DTranspose\n",
    "from keras.layers import LeakyReLU\n",
    "from keras.layers import Dropout\n",
    "from keras.layers import Embedding\n",
    "from keras.layers import Concatenate\n",
    "\n",
    "from matplotlib import pyplot as plt"
   ]
  },
  {
   "cell_type": "code",
   "execution_count": 127,
   "metadata": {},
   "outputs": [
    {
     "ename": "TypeError",
     "evalue": "load_data() takes 0 positional arguments but 1 was given",
     "output_type": "error",
     "traceback": [
      "\u001b[1;31m---------------------------------------------------------------------------\u001b[0m",
      "\u001b[1;31mTypeError\u001b[0m                                 Traceback (most recent call last)",
      "Cell \u001b[1;32mIn[127], line 2\u001b[0m\n\u001b[0;32m      1\u001b[0m \u001b[38;5;28;01mfrom\u001b[39;00m \u001b[38;5;21;01mkeras\u001b[39;00m\u001b[38;5;21;01m.\u001b[39;00m\u001b[38;5;21;01mdatasets\u001b[39;00m\u001b[38;5;21;01m.\u001b[39;00m\u001b[38;5;21;01mcifar10\u001b[39;00m \u001b[38;5;28;01mimport\u001b[39;00m load_data\n\u001b[1;32m----> 2\u001b[0m (trainX, trainy), (testX, testy) \u001b[38;5;241m=\u001b[39m \u001b[43mload_data\u001b[49m\u001b[43m(\u001b[49m\u001b[43mdata_flow\u001b[49m\u001b[43m \u001b[49m\u001b[43m)\u001b[49m\n",
      "\u001b[1;31mTypeError\u001b[0m: load_data() takes 0 positional arguments but 1 was given"
     ]
    }
   ],
   "source": [
    "from keras.datasets.cifar10 import load_data\n",
    "(trainX, trainy), (testX, testy) = load_data(data_flow )"
   ]
  },
  {
   "cell_type": "code",
   "execution_count": 129,
   "metadata": {},
   "outputs": [],
   "source": [
    "def define_discriminator(in_shape=(224,224,3), n_classes=10):\n",
    "\t\n",
    "    # label input\n",
    "\tin_label = Input(shape=(1,))  #Shape 1\n",
    "\t# embedding for categorical input\n",
    "    #each label (total 10 classes for cifar), will be represented by a vector of size 50. \n",
    "    #This vector of size 50 will be learnt by the discriminator\n",
    "\tli = Embedding(n_classes, 50)(in_label) #Shape 1,50\n",
    "\t# scale up to image dimensions with linear activation\n",
    "\tn_nodes = in_shape[0] * in_shape[1]  #32x32 = 1024. \n",
    "\tli = Dense(n_nodes)(li)  #Shape = 1, 1024\n",
    "\t# reshape to additional channel\n",
    "\tli = Reshape((in_shape[0], in_shape[1], 1))(li)  #32x32x1\n",
    "    \n",
    "    \n",
    "\t# image input\n",
    "\tin_image = Input(shape=in_shape) #32x32x3\n",
    "\t# concat label as a channel\n",
    "\tmerge = Concatenate()([in_image, li]) #32x32x4 (4 channels, 3 for image and the other for labels)\n",
    "    \n",
    "\t# downsample: This part is same as unconditional GAN upto the output layer.\n",
    "    #We will combine input label with input image and supply as inputs to the model. \n",
    "\tfe = Conv2D(128, (3,3), strides=(2,2), padding='same')(merge) #16x16x128\n",
    "\tfe = LeakyReLU(alpha=0.2)(fe)\n",
    "\t# downsample\n",
    "\tfe = Conv2D(128, (3,3), strides=(2,2), padding='same')(fe) #8x8x128\n",
    "\tfe = LeakyReLU(alpha=0.2)(fe)\n",
    "\t# flatten feature maps\n",
    "\tfe = Flatten()(fe)  #8192  (8*8*128=8192)\n",
    "\t# dropout\n",
    "\tfe = Dropout(0.4)(fe)\n",
    "\t# output\n",
    "\tout_layer = Dense(1, activation='sigmoid')(fe)  #Shape=1\n",
    "    \n",
    "\t# define model\n",
    "    ##Combine input label with input image and supply as inputs to the model. \n",
    "\tmodel = Model([in_image, in_label], out_layer)\n",
    "\t# compile model\n",
    "\topt = Adam(lr=0.0002, beta_1=0.5)\n",
    "\tmodel.compile(loss='binary_crossentropy', optimizer=opt, metrics=['accuracy'])\n",
    "\treturn model"
   ]
  },
  {
   "cell_type": "code",
   "execution_count": 130,
   "metadata": {},
   "outputs": [
    {
     "name": "stdout",
     "output_type": "stream",
     "text": [
      "Model: \"model\"\n",
      "__________________________________________________________________________________________________\n",
      " Layer (type)                   Output Shape         Param #     Connected to                     \n",
      "==================================================================================================\n",
      " input_15 (InputLayer)          [(None, 1)]          0           []                               \n",
      "                                                                                                  \n",
      " embedding (Embedding)          (None, 1, 50)        500         ['input_15[0][0]']               \n",
      "                                                                                                  \n",
      " dense_14 (Dense)               (None, 1, 50176)     2558976     ['embedding[0][0]']              \n",
      "                                                                                                  \n",
      " input_16 (InputLayer)          [(None, 224, 224, 3  0           []                               \n",
      "                                )]                                                                \n",
      "                                                                                                  \n",
      " reshape_7 (Reshape)            (None, 224, 224, 1)  0           ['dense_14[0][0]']               \n",
      "                                                                                                  \n",
      " concatenate (Concatenate)      (None, 224, 224, 4)  0           ['input_16[0][0]',               \n",
      "                                                                  'reshape_7[0][0]']              \n",
      "                                                                                                  \n",
      " conv2d_21 (Conv2D)             (None, 112, 112, 12  4736        ['concatenate[0][0]']            \n",
      "                                8)                                                                \n",
      "                                                                                                  \n",
      " leaky_re_lu_35 (LeakyReLU)     (None, 112, 112, 12  0           ['conv2d_21[0][0]']              \n",
      "                                8)                                                                \n",
      "                                                                                                  \n",
      " conv2d_22 (Conv2D)             (None, 56, 56, 128)  147584      ['leaky_re_lu_35[0][0]']         \n",
      "                                                                                                  \n",
      " leaky_re_lu_36 (LeakyReLU)     (None, 56, 56, 128)  0           ['conv2d_22[0][0]']              \n",
      "                                                                                                  \n",
      " flatten (Flatten)              (None, 401408)       0           ['leaky_re_lu_36[0][0]']         \n",
      "                                                                                                  \n",
      " dropout (Dropout)              (None, 401408)       0           ['flatten[0][0]']                \n",
      "                                                                                                  \n",
      " dense_15 (Dense)               (None, 1)            401409      ['dropout[0][0]']                \n",
      "                                                                                                  \n",
      "==================================================================================================\n",
      "Total params: 3,113,205\n",
      "Trainable params: 3,113,205\n",
      "Non-trainable params: 0\n",
      "__________________________________________________________________________________________________\n",
      "None\n"
     ]
    }
   ],
   "source": [
    "test_discr = define_discriminator()\n",
    "print(test_discr.summary())"
   ]
  },
  {
   "cell_type": "code",
   "execution_count": 131,
   "metadata": {},
   "outputs": [],
   "source": [
    "\n",
    "# define the standalone generator model\n",
    "#latent vector and label as inputs\n",
    "\n",
    "def define_generator(latent_dim, n_classes=4):\n",
    "    \n",
    "\t# label input\n",
    "\tin_label = Input(shape=(1,))  #Input of dimension 1\n",
    "\t# embedding for categorical input\n",
    "    #each label (total 10 classes for cifar), will be represented by a vector of size 50. \n",
    "\tli = Embedding(n_classes, 50)(in_label) #Shape 1,50\n",
    "    \n",
    "\t# linear multiplication\n",
    "\tn_nodes = 8 * 8  # To match the dimensions for concatenation later in this step.  \n",
    "\tli = Dense(n_nodes)(li) #1,64\n",
    "\t# reshape to additional channel\n",
    "\tli = Reshape((8, 8, 1))(li)\n",
    "    \n",
    "    \n",
    "\t# image generator input\n",
    "\tin_lat = Input(shape=(latent_dim,))  #Input of dimension 100\n",
    "    \n",
    "\t# foundation for 8x8 image\n",
    "    # We will reshape input latent vector into 8x8 image as a starting point. \n",
    "    #So n_nodes for the Dense layer can be 128x8x8 so when we reshape the output \n",
    "    #it would be 8x8x128 and that can be slowly upscaled to 32x32 image for output.\n",
    "    #Note that this part is same as unconditional GAN until the output layer. \n",
    "    #While defining model inputs we will combine input label and the latent input.\n",
    "\tn_nodes = 128 * 8 * 8\n",
    "\tgen = Dense(n_nodes)(in_lat)  #shape=8192\n",
    "\tgen = LeakyReLU(alpha=0.2)(gen)\n",
    "\tgen = Reshape((8, 8, 128))(gen) #Shape=8x8x128\n",
    "\t# merge image gen and label input\n",
    "\tmerge = Concatenate()([gen, li])  #Shape=8x8x129 (Extra channel corresponds to the label)\n",
    "\t# upsample to 16x16\n",
    "\tgen = Conv2DTranspose(128, (4,4), strides=(2,2), padding='same')(merge) #16x16x128\n",
    "\tgen = LeakyReLU(alpha=0.2)(gen)\n",
    "\t# upsample to 32x32\n",
    "\tgen = Conv2DTranspose(128, (4,4), strides=(2,2), padding='same')(gen) #32x32x128\n",
    "\tgen = LeakyReLU(alpha=0.2)(gen)\n",
    "\t# output\n",
    "\tout_layer = Conv2D(3, (8,8), activation='tanh', padding='same')(gen) #32x32x3\n",
    "\t# define model\n",
    "\tmodel = Model([in_lat, in_label], out_layer)\n",
    "\treturn model   #Model not compiled as it is not directly trained like the discriminator."
   ]
  },
  {
   "cell_type": "code",
   "execution_count": 132,
   "metadata": {},
   "outputs": [
    {
     "name": "stdout",
     "output_type": "stream",
     "text": [
      "Model: \"model_1\"\n",
      "__________________________________________________________________________________________________\n",
      " Layer (type)                   Output Shape         Param #     Connected to                     \n",
      "==================================================================================================\n",
      " input_18 (InputLayer)          [(None, 100)]        0           []                               \n",
      "                                                                                                  \n",
      " input_17 (InputLayer)          [(None, 1)]          0           []                               \n",
      "                                                                                                  \n",
      " dense_17 (Dense)               (None, 8192)         827392      ['input_18[0][0]']               \n",
      "                                                                                                  \n",
      " embedding_1 (Embedding)        (None, 1, 50)        200         ['input_17[0][0]']               \n",
      "                                                                                                  \n",
      " leaky_re_lu_37 (LeakyReLU)     (None, 8192)         0           ['dense_17[0][0]']               \n",
      "                                                                                                  \n",
      " dense_16 (Dense)               (None, 1, 64)        3264        ['embedding_1[0][0]']            \n",
      "                                                                                                  \n",
      " reshape_9 (Reshape)            (None, 8, 8, 128)    0           ['leaky_re_lu_37[0][0]']         \n",
      "                                                                                                  \n",
      " reshape_8 (Reshape)            (None, 8, 8, 1)      0           ['dense_16[0][0]']               \n",
      "                                                                                                  \n",
      " concatenate_1 (Concatenate)    (None, 8, 8, 129)    0           ['reshape_9[0][0]',              \n",
      "                                                                  'reshape_8[0][0]']              \n",
      "                                                                                                  \n",
      " conv2d_transpose_14 (Conv2DTra  (None, 16, 16, 128)  264320     ['concatenate_1[0][0]']          \n",
      " nspose)                                                                                          \n",
      "                                                                                                  \n",
      " leaky_re_lu_38 (LeakyReLU)     (None, 16, 16, 128)  0           ['conv2d_transpose_14[0][0]']    \n",
      "                                                                                                  \n",
      " conv2d_transpose_15 (Conv2DTra  (None, 32, 32, 128)  262272     ['leaky_re_lu_38[0][0]']         \n",
      " nspose)                                                                                          \n",
      "                                                                                                  \n",
      " leaky_re_lu_39 (LeakyReLU)     (None, 32, 32, 128)  0           ['conv2d_transpose_15[0][0]']    \n",
      "                                                                                                  \n",
      " conv2d_23 (Conv2D)             (None, 32, 32, 3)    24579       ['leaky_re_lu_39[0][0]']         \n",
      "                                                                                                  \n",
      "==================================================================================================\n",
      "Total params: 1,382,027\n",
      "Trainable params: 1,382,027\n",
      "Non-trainable params: 0\n",
      "__________________________________________________________________________________________________\n",
      "None\n"
     ]
    }
   ],
   "source": [
    "test_gen = define_generator(100, n_classes=4)\n",
    "print(test_gen.summary())"
   ]
  },
  {
   "cell_type": "code",
   "execution_count": 133,
   "metadata": {},
   "outputs": [],
   "source": [
    "# #Generator is trained via GAN combined model. \n",
    "# define the combined generator and discriminator model, for updating the generator\n",
    "#Discriminator is trained separately so here only generator will be trained by keeping\n",
    "#the discriminator constant. \n",
    "def define_gan(g_model, d_model):\n",
    "\td_model.trainable = False  #Discriminator is trained separately. So set to not trainable.\n",
    "    \n",
    "    ## connect generator and discriminator...\n",
    "\t# first, get noise and label inputs from generator model\n",
    "\tgen_noise, gen_label = g_model.input  #Latent vector size and label size\n",
    "\t# get image output from the generator model\n",
    "\tgen_output = g_model.output  #32x32x3\n",
    "    \n",
    "\t# generator image output and corresponding input label are inputs to discriminator\n",
    "\tgan_output = d_model([gen_output, gen_label])\n",
    "\t# define gan model as taking noise and label and outputting a classification\n",
    "\tmodel = Model([gen_noise, gen_label], gan_output)\n",
    "\t# compile model\n",
    "\topt = Adam(lr=0.0002, beta_1=0.5)\n",
    "\tmodel.compile(loss='binary_crossentropy', optimizer=opt)\n",
    "\treturn model\n"
   ]
  },
  {
   "cell_type": "code",
   "execution_count": 134,
   "metadata": {},
   "outputs": [],
   "source": [
    "# load cifar images\n",
    "def load_real_samples():\n",
    "\t# load dataset\n",
    "\t(trainX, trainy), (_, _) = load_data()   #cifar\n",
    "\t# convert to floats and scale\n",
    "\tX = trainX.astype('float32')\n",
    "\t# scale from [0,255] to [-1,1]\n",
    "\tX = (X - 127.5) / 127.5   #Generator uses tanh activation so rescale \n",
    "                            #original images to -1 to 1 to match the output of generator.\n",
    "\treturn [X, trainy]"
   ]
  },
  {
   "cell_type": "code",
   "execution_count": 135,
   "metadata": {},
   "outputs": [],
   "source": [
    "# # select real samples\n",
    "# pick a batch of random real samples to train the GAN\n",
    "#In fact, we will train the GAN on a half batch of real images and another \n",
    "#half batch of fake images. \n",
    "#For each real image we assign a label 1 and for fake we assign label 0. \n",
    "def generate_real_samples(dataset, n_samples):\n",
    "\t# split into images and labels\n",
    "\timages, labels = dataset  \n",
    "\t# choose random instances\n",
    "\tix = randint(0, images.shape[0], n_samples)\n",
    "\t# select images and labels\n",
    "\tX, labels = images[ix], labels[ix]\n",
    "\t# generate class labels and assign to y (don't confuse this with the above labels that correspond to cifar labels)\n",
    "\ty = ones((n_samples, 1))  #Label=1 indicating they are real\n",
    "\treturn [X, labels], y\n"
   ]
  },
  {
   "cell_type": "code",
   "execution_count": 136,
   "metadata": {},
   "outputs": [],
   "source": [
    "# generate points in latent space as input for the generator\n",
    "def generate_latent_points(latent_dim, n_samples, n_classes=10):\n",
    "\t# generate points in the latent space\n",
    "\tx_input = randn(latent_dim * n_samples)\n",
    "\t# reshape into a batch of inputs for the network\n",
    "\tz_input = x_input.reshape(n_samples, latent_dim)\n",
    "\t# generate labels\n",
    "\tlabels = randint(0, n_classes, n_samples)\n",
    "\treturn [z_input, labels]"
   ]
  },
  {
   "cell_type": "code",
   "execution_count": 137,
   "metadata": {},
   "outputs": [],
   "source": [
    "# use the generator to generate n fake examples, with class labels\n",
    "#Supply the generator, latent_dim and number of samples as input.\n",
    "#Use the above latent point generator to generate latent points. \n",
    "def generate_fake_samples(generator, latent_dim, n_samples):\n",
    "\t# generate points in latent space\n",
    "\tz_input, labels_input = generate_latent_points(latent_dim, n_samples)\n",
    "\t# predict outputs\n",
    "\timages = generator.predict([z_input, labels_input])\n",
    "\t# create class labels\n",
    "\ty = zeros((n_samples, 1))  #Label=0 indicating they are fake\n",
    "\treturn [images, labels_input], y"
   ]
  },
  {
   "cell_type": "code",
   "execution_count": null,
   "metadata": {},
   "outputs": [],
   "source": [
    "# train the generator and discriminator\n",
    "#We loop through a number of epochs to train our Discriminator by first selecting\n",
    "#a random batch of images from our true/real dataset.\n",
    "#Then, generating a set of images using the generator. \n",
    "#Feed both set of images into the Discriminator. \n",
    "#Finally, set the loss parameters for both the real and fake images, as well as the combined loss. \n",
    "def train(g_model, d_model, gan_model, dataset, latent_dim, n_epochs=100, n_batch=128):\n",
    "\tbat_per_epo = int(dataset[0].shape[0] / n_batch)\n",
    "\thalf_batch = int(n_batch / 2)  #the discriminator model is updated for a half batch of real samples \n",
    "                            #and a half batch of fake samples, combined a single batch. \n",
    "\t# manually enumerate epochs\n",
    "\tfor i in range(n_epochs):\n",
    "\t\t# enumerate batches over the training set\n",
    "\t\tfor j in range(bat_per_epo):\n",
    "\t\t\t\n",
    "             # Train the discriminator on real and fake images, separately (half batch each)\n",
    "        #Research showed that separate training is more effective. \n",
    "\t\t\t# get randomly selected 'real' samples\n",
    "            # get randomly selected 'real' samples\n",
    "\t\t\t[X_real, labels_real], y_real = generate_real_samples(dataset, half_batch)\n",
    "\n",
    "            # update discriminator model weights\n",
    "            ##train_on_batch allows you to update weights based on a collection \n",
    "            #of samples you provide\n",
    "\t\t\td_loss_real, _ = d_model.train_on_batch([X_real, labels_real], y_real)\n",
    "            \n",
    "\t\t\t# generate 'fake' examples\n",
    "\t\t\t[X_fake, labels], y_fake = generate_fake_samples(g_model, latent_dim, half_batch)\n",
    "\t\t\t# update discriminator model weights\n",
    "\t\t\td_loss_fake, _ = d_model.train_on_batch([X_fake, labels], y_fake)\n",
    "            \n",
    "            #d_loss = 0.5 * np.add(d_loss_real, d_loss_fake) #Average loss if you want to report single..\n",
    "            \n",
    "\t\t\t# prepare points in latent space as input for the generator\n",
    "\t\t\t[z_input, labels_input] = generate_latent_points(latent_dim, n_batch)\n",
    "            \n",
    "            # The generator wants the discriminator to label the generated samples\n",
    "        # as valid (ones)\n",
    "        #This is where the generator is trying to trick discriminator into believing\n",
    "        #the generated image is true (hence value of 1 for y)\t\n",
    "\t\t\t# create inverted labels for the fake samples\n",
    "\t\t\ty_gan = ones((n_batch, 1))\n",
    "             # Generator is part of combined model where it got directly linked with the discriminator\n",
    "        # Train the generator with latent_dim as x and 1 as y. \n",
    "        # Again, 1 as the output as it is adversarial and if generator did a great\n",
    "        #job of folling the discriminator then the output would be 1 (true)\n",
    "\t\t\t# update the generator via the discriminator's error\n",
    "\t\t\tg_loss = gan_model.train_on_batch([z_input, labels_input], y_gan)\n",
    "\t\t\t# Print losses on this batch\n",
    "\t\t\tprint('Epoch>%d, Batch%d/%d, d1=%.3f, d2=%.3f g=%.3f' %\n",
    "\t\t\t\t(i+1, j+1, bat_per_epo, d_loss_real, d_loss_fake, g_loss))\n",
    "\t# save the generator model\n",
    "\tg_model.save('cifar_conditional_generator_25epochs.h5')"
   ]
  },
  {
   "cell_type": "code",
   "execution_count": 138,
   "metadata": {},
   "outputs": [
    {
     "name": "stdout",
     "output_type": "stream",
     "text": [
      "WARNING:tensorflow:Model was constructed with shape (None, 224, 224, 3) for input KerasTensor(type_spec=TensorSpec(shape=(None, 224, 224, 3), dtype=tf.float32, name='input_20'), name='input_20', description=\"created by layer 'input_20'\"), but it was called on an input with incompatible shape (None, 32, 32, 3).\n"
     ]
    },
    {
     "ename": "ValueError",
     "evalue": "Exception encountered when calling layer 'concatenate_2' (type Concatenate).\n\nDimension 1 in both shapes must be equal, but are 32 and 224. Shapes are [?,32,32] and [?,224,224]. for '{{node model_2/concatenate_2/concat}} = ConcatV2[N=2, T=DT_FLOAT, Tidx=DT_INT32](Placeholder, model_2/reshape_10/Reshape, model_2/concatenate_2/concat/axis)' with input shapes: [?,32,32,3], [?,224,224,1], [] and with computed input tensors: input[2] = <3>.\n\nCall arguments received by layer 'concatenate_2' (type Concatenate):\n  • inputs=['tf.Tensor(shape=(None, 32, 32, 3), dtype=float32)', 'tf.Tensor(shape=(None, 224, 224, 1), dtype=float32)']",
     "output_type": "error",
     "traceback": [
      "\u001b[1;31m---------------------------------------------------------------------------\u001b[0m",
      "\u001b[1;31mValueError\u001b[0m                                Traceback (most recent call last)",
      "Cell \u001b[1;32mIn[138], line 10\u001b[0m\n\u001b[0;32m      8\u001b[0m g_model \u001b[38;5;241m=\u001b[39m define_generator(latent_dim)\n\u001b[0;32m      9\u001b[0m \u001b[38;5;66;03m# create the gan\u001b[39;00m\n\u001b[1;32m---> 10\u001b[0m gan_model \u001b[38;5;241m=\u001b[39m \u001b[43mdefine_gan\u001b[49m\u001b[43m(\u001b[49m\u001b[43mg_model\u001b[49m\u001b[43m,\u001b[49m\u001b[43m \u001b[49m\u001b[43md_model\u001b[49m\u001b[43m)\u001b[49m\n\u001b[0;32m     11\u001b[0m \u001b[38;5;66;03m# load image data\u001b[39;00m\n\u001b[0;32m     12\u001b[0m dataset \u001b[38;5;241m=\u001b[39m load_real_samples()\n",
      "Cell \u001b[1;32mIn[133], line 15\u001b[0m, in \u001b[0;36mdefine_gan\u001b[1;34m(g_model, d_model)\u001b[0m\n\u001b[0;32m     12\u001b[0m gen_output \u001b[38;5;241m=\u001b[39m g_model\u001b[38;5;241m.\u001b[39moutput  \u001b[38;5;66;03m#32x32x3\u001b[39;00m\n\u001b[0;32m     14\u001b[0m \u001b[38;5;66;03m# generator image output and corresponding input label are inputs to discriminator\u001b[39;00m\n\u001b[1;32m---> 15\u001b[0m gan_output \u001b[38;5;241m=\u001b[39m \u001b[43md_model\u001b[49m\u001b[43m(\u001b[49m\u001b[43m[\u001b[49m\u001b[43mgen_output\u001b[49m\u001b[43m,\u001b[49m\u001b[43m \u001b[49m\u001b[43mgen_label\u001b[49m\u001b[43m]\u001b[49m\u001b[43m)\u001b[49m\n\u001b[0;32m     16\u001b[0m \u001b[38;5;66;03m# define gan model as taking noise and label and outputting a classification\u001b[39;00m\n\u001b[0;32m     17\u001b[0m model \u001b[38;5;241m=\u001b[39m Model([gen_noise, gen_label], gan_output)\n",
      "File \u001b[1;32m~\\anaconda3\\envs\\deeplearning2\\lib\\site-packages\\keras\\utils\\traceback_utils.py:70\u001b[0m, in \u001b[0;36mfilter_traceback.<locals>.error_handler\u001b[1;34m(*args, **kwargs)\u001b[0m\n\u001b[0;32m     67\u001b[0m     filtered_tb \u001b[38;5;241m=\u001b[39m _process_traceback_frames(e\u001b[38;5;241m.\u001b[39m__traceback__)\n\u001b[0;32m     68\u001b[0m     \u001b[38;5;66;03m# To get the full stack trace, call:\u001b[39;00m\n\u001b[0;32m     69\u001b[0m     \u001b[38;5;66;03m# `tf.debugging.disable_traceback_filtering()`\u001b[39;00m\n\u001b[1;32m---> 70\u001b[0m     \u001b[38;5;28;01mraise\u001b[39;00m e\u001b[38;5;241m.\u001b[39mwith_traceback(filtered_tb) \u001b[38;5;28;01mfrom\u001b[39;00m \u001b[38;5;28mNone\u001b[39m\n\u001b[0;32m     71\u001b[0m \u001b[38;5;28;01mfinally\u001b[39;00m:\n\u001b[0;32m     72\u001b[0m     \u001b[38;5;28;01mdel\u001b[39;00m filtered_tb\n",
      "File \u001b[1;32m~\\anaconda3\\envs\\deeplearning2\\lib\\site-packages\\keras\\backend.py:3572\u001b[0m, in \u001b[0;36mconcatenate\u001b[1;34m(tensors, axis)\u001b[0m\n\u001b[0;32m   3570\u001b[0m     \u001b[38;5;28;01mreturn\u001b[39;00m tf\u001b[38;5;241m.\u001b[39mconcat(tensors, axis)\n\u001b[0;32m   3571\u001b[0m \u001b[38;5;28;01melse\u001b[39;00m:\n\u001b[1;32m-> 3572\u001b[0m     \u001b[38;5;28;01mreturn\u001b[39;00m \u001b[43mtf\u001b[49m\u001b[38;5;241;43m.\u001b[39;49m\u001b[43mconcat\u001b[49m\u001b[43m(\u001b[49m\u001b[43m[\u001b[49m\u001b[43mto_dense\u001b[49m\u001b[43m(\u001b[49m\u001b[43mx\u001b[49m\u001b[43m)\u001b[49m\u001b[43m \u001b[49m\u001b[38;5;28;43;01mfor\u001b[39;49;00m\u001b[43m \u001b[49m\u001b[43mx\u001b[49m\u001b[43m \u001b[49m\u001b[38;5;129;43;01min\u001b[39;49;00m\u001b[43m \u001b[49m\u001b[43mtensors\u001b[49m\u001b[43m]\u001b[49m\u001b[43m,\u001b[49m\u001b[43m \u001b[49m\u001b[43maxis\u001b[49m\u001b[43m)\u001b[49m\n",
      "\u001b[1;31mValueError\u001b[0m: Exception encountered when calling layer 'concatenate_2' (type Concatenate).\n\nDimension 1 in both shapes must be equal, but are 32 and 224. Shapes are [?,32,32] and [?,224,224]. for '{{node model_2/concatenate_2/concat}} = ConcatV2[N=2, T=DT_FLOAT, Tidx=DT_INT32](Placeholder, model_2/reshape_10/Reshape, model_2/concatenate_2/concat/axis)' with input shapes: [?,32,32,3], [?,224,224,1], [] and with computed input tensors: input[2] = <3>.\n\nCall arguments received by layer 'concatenate_2' (type Concatenate):\n  • inputs=['tf.Tensor(shape=(None, 32, 32, 3), dtype=float32)', 'tf.Tensor(shape=(None, 224, 224, 1), dtype=float32)']"
     ]
    }
   ],
   "source": [
    "#Train the GAN\n",
    "\n",
    "# size of the latent space\n",
    "latent_dim = 100\n",
    "# create the discriminator\n",
    "d_model = define_discriminator()\n",
    "# create the generator\n",
    "g_model = define_generator(latent_dim)\n",
    "# create the gan\n",
    "gan_model = define_gan(g_model, d_model)\n",
    "# load image data\n",
    "dataset = load_real_samples()\n",
    "# train model\n",
    "train(g_model, d_model, gan_model, dataset, latent_dim, n_epochs=2)\n"
   ]
  },
  {
   "cell_type": "code",
   "execution_count": 139,
   "metadata": {},
   "outputs": [],
   "source": [
    "from numpy import asarray\n",
    "from numpy.random import randn\n",
    "from numpy.random import randint\n",
    "from keras.models import load_model\n",
    "import numpy as np"
   ]
  },
  {
   "cell_type": "code",
   "execution_count": 140,
   "metadata": {},
   "outputs": [
    {
     "ename": "OSError",
     "evalue": "No file or directory found at cifar_conditional_generator_250epochs.h5",
     "output_type": "error",
     "traceback": [
      "\u001b[1;31m---------------------------------------------------------------------------\u001b[0m",
      "\u001b[1;31mOSError\u001b[0m                                   Traceback (most recent call last)",
      "Cell \u001b[1;32mIn[140], line 5\u001b[0m\n\u001b[0;32m      1\u001b[0m \u001b[38;5;66;03m#Note: CIFAR10 classes are: airplane, automobile, bird, cat, deer, dog, frog, horse,\u001b[39;00m\n\u001b[0;32m      2\u001b[0m \u001b[38;5;66;03m# ship, truck\u001b[39;00m\n\u001b[0;32m      3\u001b[0m \n\u001b[0;32m      4\u001b[0m \u001b[38;5;66;03m# load model\u001b[39;00m\n\u001b[1;32m----> 5\u001b[0m model \u001b[38;5;241m=\u001b[39m \u001b[43mload_model\u001b[49m\u001b[43m(\u001b[49m\u001b[38;5;124;43m'\u001b[39;49m\u001b[38;5;124;43mcifar_conditional_generator_250epochs.h5\u001b[39;49m\u001b[38;5;124;43m'\u001b[39;49m\u001b[43m)\u001b[49m\n\u001b[0;32m      7\u001b[0m \u001b[38;5;66;03m# generate multiple images\u001b[39;00m\n\u001b[0;32m      9\u001b[0m latent_points, labels \u001b[38;5;241m=\u001b[39m generate_latent_points(\u001b[38;5;241m100\u001b[39m, \u001b[38;5;241m100\u001b[39m)\n",
      "File \u001b[1;32m~\\anaconda3\\envs\\deeplearning2\\lib\\site-packages\\keras\\utils\\traceback_utils.py:70\u001b[0m, in \u001b[0;36mfilter_traceback.<locals>.error_handler\u001b[1;34m(*args, **kwargs)\u001b[0m\n\u001b[0;32m     67\u001b[0m     filtered_tb \u001b[38;5;241m=\u001b[39m _process_traceback_frames(e\u001b[38;5;241m.\u001b[39m__traceback__)\n\u001b[0;32m     68\u001b[0m     \u001b[38;5;66;03m# To get the full stack trace, call:\u001b[39;00m\n\u001b[0;32m     69\u001b[0m     \u001b[38;5;66;03m# `tf.debugging.disable_traceback_filtering()`\u001b[39;00m\n\u001b[1;32m---> 70\u001b[0m     \u001b[38;5;28;01mraise\u001b[39;00m e\u001b[38;5;241m.\u001b[39mwith_traceback(filtered_tb) \u001b[38;5;28;01mfrom\u001b[39;00m \u001b[38;5;28mNone\u001b[39m\n\u001b[0;32m     71\u001b[0m \u001b[38;5;28;01mfinally\u001b[39;00m:\n\u001b[0;32m     72\u001b[0m     \u001b[38;5;28;01mdel\u001b[39;00m filtered_tb\n",
      "File \u001b[1;32m~\\anaconda3\\envs\\deeplearning2\\lib\\site-packages\\keras\\saving\\legacy\\save.py:227\u001b[0m, in \u001b[0;36mload_model\u001b[1;34m(filepath, custom_objects, compile, options)\u001b[0m\n\u001b[0;32m    225\u001b[0m \u001b[38;5;28;01mif\u001b[39;00m \u001b[38;5;28misinstance\u001b[39m(filepath_str, \u001b[38;5;28mstr\u001b[39m):\n\u001b[0;32m    226\u001b[0m     \u001b[38;5;28;01mif\u001b[39;00m \u001b[38;5;129;01mnot\u001b[39;00m tf\u001b[38;5;241m.\u001b[39mio\u001b[38;5;241m.\u001b[39mgfile\u001b[38;5;241m.\u001b[39mexists(filepath_str):\n\u001b[1;32m--> 227\u001b[0m         \u001b[38;5;28;01mraise\u001b[39;00m \u001b[38;5;167;01mIOError\u001b[39;00m(\n\u001b[0;32m    228\u001b[0m             \u001b[38;5;124mf\u001b[39m\u001b[38;5;124m\"\u001b[39m\u001b[38;5;124mNo file or directory found at \u001b[39m\u001b[38;5;132;01m{\u001b[39;00mfilepath_str\u001b[38;5;132;01m}\u001b[39;00m\u001b[38;5;124m\"\u001b[39m\n\u001b[0;32m    229\u001b[0m         )\n\u001b[0;32m    231\u001b[0m     \u001b[38;5;28;01mif\u001b[39;00m tf\u001b[38;5;241m.\u001b[39mio\u001b[38;5;241m.\u001b[39mgfile\u001b[38;5;241m.\u001b[39misdir(filepath_str):\n\u001b[0;32m    232\u001b[0m         \u001b[38;5;28;01mreturn\u001b[39;00m saved_model_load\u001b[38;5;241m.\u001b[39mload(\n\u001b[0;32m    233\u001b[0m             filepath_str, \u001b[38;5;28mcompile\u001b[39m, options\n\u001b[0;32m    234\u001b[0m         )\n",
      "\u001b[1;31mOSError\u001b[0m: No file or directory found at cifar_conditional_generator_250epochs.h5"
     ]
    }
   ],
   "source": [
    "#Note: CIFAR10 classes are: airplane, automobile, bird, cat, deer, dog, frog, horse,\n",
    "# ship, truck\n",
    "\n",
    "# load model\n",
    "model = load_model('cifar_conditional_generator_250epochs.h5')\n",
    "\n",
    "# generate multiple images\n",
    "\n",
    "latent_points, labels = generate_latent_points(100, 100)\n",
    "# specify labels - generate 10 sets of labels each gping from 0 to 9\n",
    "labels = asarray([x for _ in range(10) for x in range(10)])\n",
    "# generate images\n",
    "X  = model.predict([latent_points, labels])\n",
    "# scale from [-1,1] to [0,1]\n",
    "X = (X + 1) / 2.0\n",
    "X = (X*255).astype(np.uint8)\n",
    "# plot the result (10 sets of images, all images in a column should be of same class in the plot)\n",
    "# Plot generated images \n",
    "def show_plot(examples, n):\n",
    "\tfor i in range(n * n):\n",
    "\t\tplt.subplot(n, n, 1 + i)\n",
    "\t\tplt.axis('off')\n",
    "\t\tplt.imshow(examples[i, :, :, :])\n",
    "\tplt.show()\n",
    "    \n",
    "show_plot(X, 10)"
   ]
  },
  {
   "cell_type": "code",
   "execution_count": null,
   "metadata": {},
   "outputs": [],
   "source": []
  },
  {
   "cell_type": "code",
   "execution_count": null,
   "metadata": {},
   "outputs": [],
   "source": []
  },
  {
   "cell_type": "code",
   "execution_count": 77,
   "metadata": {
    "executionInfo": {
     "elapsed": 8,
     "status": "ok",
     "timestamp": 1669004815010,
     "user": {
      "displayName": "17_037 Upama Roy Chowdhury",
      "userId": "08603220032487342829"
     },
     "user_tz": -360
    },
    "id": "Uud0OXpOJAIz"
   },
   "outputs": [],
   "source": [
    "from tensorflow import keras\n",
    "from tensorflow.keras import layers\n",
    "\n",
    "from tensorflow_docs.vis import embed\n",
    "import matplotlib.pyplot as plt\n",
    "import tensorflow as tf\n",
    "import numpy as np\n",
    "import imageio"
   ]
  },
  {
   "cell_type": "code",
   "execution_count": 78,
   "metadata": {
    "executionInfo": {
     "elapsed": 7,
     "status": "ok",
     "timestamp": 1669004815010,
     "user": {
      "displayName": "17_037 Upama Roy Chowdhury",
      "userId": "08603220032487342829"
     },
     "user_tz": -360
    },
    "id": "P17Twd_N6vRV"
   },
   "outputs": [],
   "source": [
    "batch_size = 32\n",
    "num_channels = 1\n",
    "num_classes = 4\n",
    "image_size = 224\n",
    "latent_dim = 128"
   ]
  },
  {
   "cell_type": "code",
   "execution_count": 79,
   "metadata": {
    "executionInfo": {
     "elapsed": 694,
     "status": "ok",
     "timestamp": 1669004815698,
     "user": {
      "displayName": "17_037 Upama Roy Chowdhury",
      "userId": "08603220032487342829"
     },
     "user_tz": -360
    },
    "id": "czKr421Z2OhJ"
   },
   "outputs": [],
   "source": [
    "all_images = np.concatenate([x_train])\n",
    "all_labels = np.concatenate([y_train])"
   ]
  },
  {
   "cell_type": "code",
   "execution_count": 108,
   "metadata": {
    "id": "eneoeQ-LH5RN"
   },
   "outputs": [
    {
     "name": "stdout",
     "output_type": "stream",
     "text": [
      "Shape of training images: (5120, 224, 224, 3)\n",
      "Shape of training labels: (5120, 4, 4)\n"
     ]
    }
   ],
   "source": [
    "all_images = np.concatenate([x_train])\n",
    "all_labels = np.concatenate([y_train])\n",
    "all_images = all_images.astype(\"float32\") / 255.0\n",
    "#all_images = np.reshape(all_digits, (-1, 224, 224, 1))\n",
    "all_labels = keras.utils.to_categorical(all_labels, 4)\n",
    "\n",
    "dataset = tf.data.Dataset.from_tensor_slices((all_images, all_labels))\n",
    "#dataset = dataset.shuffle(buffer_size=512).batch(batch_size)\n",
    "\n",
    "print(f\"Shape of training images: {all_images.shape}\")\n",
    "print(f\"Shape of training labels: {all_labels.shape}\")\n"
   ]
  },
  {
   "cell_type": "code",
   "execution_count": 109,
   "metadata": {
    "id": "TzRp8yWH65gu"
   },
   "outputs": [
    {
     "name": "stdout",
     "output_type": "stream",
     "text": [
      "132 5\n"
     ]
    }
   ],
   "source": [
    "generator_in_channels = latent_dim + num_classes\n",
    "discriminator_in_channels = num_channels + num_classes\n",
    "print(generator_in_channels, discriminator_in_channels)"
   ]
  },
  {
   "cell_type": "code",
   "execution_count": 110,
   "metadata": {
    "id": "yzRgJk0V79BY"
   },
   "outputs": [],
   "source": [
    "# Create the discriminator.\n",
    "discriminator = keras.Sequential(\n",
    "    [\n",
    "        keras.layers.InputLayer((224, 224, discriminator_in_channels)),\n",
    "        layers.Conv2D(64, (3, 3), strides=(2, 2), padding=\"same\"),\n",
    "        layers.LeakyReLU(alpha=0.2),\n",
    "        layers.Conv2D(128, (3, 3), strides=(2, 2), padding=\"same\"),\n",
    "        layers.LeakyReLU(alpha=0.2),\n",
    "        layers.GlobalMaxPooling2D(),\n",
    "        layers.Dense(1),\n",
    "    ],\n",
    "    name=\"discriminator\",\n",
    ")\n"
   ]
  },
  {
   "cell_type": "code",
   "execution_count": 111,
   "metadata": {
    "id": "aAGHXvMt8PYt"
   },
   "outputs": [],
   "source": [
    "# Create the generator.\n",
    "generator = keras.Sequential(\n",
    "    [\n",
    "        keras.layers.InputLayer((generator_in_channels,)),\n",
    "        # We want to generate 128 + num_classes coefficients to reshape into a\n",
    "        # 7x7x(128 + num_classes) map.\n",
    "        layers.Dense(7 * 7 * generator_in_channels),\n",
    "        layers.LeakyReLU(alpha=0.2),\n",
    "        layers.Reshape((7, 7, generator_in_channels)),\n",
    "        layers.Conv2DTranspose(128, (4, 4), strides=(2, 2), padding=\"same\"),\n",
    "        layers.LeakyReLU(alpha=0.2),\n",
    "        layers.Conv2DTranspose(128, (4, 4), strides=(2, 2), padding=\"same\"),\n",
    "        layers.LeakyReLU(alpha=0.2),\n",
    "        layers.Conv2D(1, (7, 7), padding=\"same\", activation=\"sigmoid\"),\n",
    "    ],\n",
    "    name=\"generator\",\n",
    ")"
   ]
  },
  {
   "cell_type": "code",
   "execution_count": 112,
   "metadata": {},
   "outputs": [],
   "source": [
    "class ConditionalGAN(keras.Model):\n",
    "    def __init__(self, discriminator, generator, latent_dim):\n",
    "        super(ConditionalGAN, self).__init__()\n",
    "        self.discriminator = discriminator\n",
    "        self.generator = generator\n",
    "        self.latent_dim = latent_dim\n",
    "        self.gen_loss_tracker = keras.metrics.Mean(name=\"generator_loss\")\n",
    "        self.disc_loss_tracker = keras.metrics.Mean(name=\"discriminator_loss\")"
   ]
  },
  {
   "cell_type": "code",
   "execution_count": 113,
   "metadata": {},
   "outputs": [],
   "source": [
    "    @property\n",
    "    def metrics(self):\n",
    "        return [self.gen_loss_tracker, self.disc_loss_tracker]"
   ]
  },
  {
   "cell_type": "code",
   "execution_count": 114,
   "metadata": {},
   "outputs": [],
   "source": [
    "   def compile(self, d_optimizer, g_optimizer, loss_fn):\n",
    "        super(ConditionalGAN, self).compile()\n",
    "        self.d_optimizer = d_optimizer\n",
    "        self.g_optimizer = g_optimizer\n",
    "        self.loss_fn = loss_fn"
   ]
  },
  {
   "cell_type": "code",
   "execution_count": 121,
   "metadata": {},
   "outputs": [],
   "source": [
    "    def train_step(self, data):\n",
    "        # Unpack the data.\n",
    "        real_images, one_hot_labels = data\n",
    "\n",
    "        # Add dummy dimensions to the labels so that they can be concatenated with\n",
    "        # the images. This is for the discriminator.\n",
    "        image_one_hot_labels = one_hot_labels[:, :, None, None]\n",
    "        image_one_hot_labels = tf.repeat(\n",
    "            image_one_hot_labels, repeats=[image_size * image_size]\n",
    "        )\n",
    "        image_one_hot_labels = tf.reshape(\n",
    "            image_one_hot_labels, (-1, image_size, image_size, num_classes)\n",
    "        )\n",
    "\n",
    "        # Sample random points in the latent space and concatenate the labels.\n",
    "        # This is for the generator.\n",
    "        batch_size = tf.shape(real_images)[0]\n",
    "        random_latent_vectors = tf.random.normal(shape=(batch_size, self.latent_dim))\n",
    "        random_vector_labels = tf.concat(\n",
    "            [random_latent_vectors, one_hot_labels], axis=1\n",
    "        )\n",
    "\n",
    "        # Decode the noise (guided by labels) to fake images.\n",
    "        generated_images = self.generator(random_vector_labels)\n",
    "\n",
    "        # Combine them with real images. Note that we are concatenating the labels\n",
    "        # with these images here.\n",
    "        fake_image_and_labels = tf.concat([generated_images, image_one_hot_labels], -1)\n",
    "        real_image_and_labels = tf.concat([real_images, image_one_hot_labels], -1)\n",
    "        combined_images = tf.concat(\n",
    "            [fake_image_and_labels, real_image_and_labels], axis=0\n",
    "        )\n",
    "\n",
    "        # Assemble labels discriminating real from fake images.\n",
    "        labels = tf.concat(\n",
    "            [tf.ones((batch_size, 1)), tf.zeros((batch_size, 1))], axis=0\n",
    "        )\n",
    "\n",
    "\n",
    "\n",
    "\n"
   ]
  },
  {
   "cell_type": "code",
   "execution_count": null,
   "metadata": {},
   "outputs": [],
   "source": []
  },
  {
   "cell_type": "code",
   "execution_count": null,
   "metadata": {},
   "outputs": [],
   "source": []
  },
  {
   "cell_type": "code",
   "execution_count": null,
   "metadata": {},
   "outputs": [],
   "source": []
  },
  {
   "cell_type": "code",
   "execution_count": 98,
   "metadata": {
    "id": "iEs21k779W20"
   },
   "outputs": [],
   "source": [
    "class ConditionalGAN(keras.Model):\n",
    "    def __init__(self, discriminator, generator, latent_dim):\n",
    "        super(ConditionalGAN, self).__init__()\n",
    "        self.discriminator = discriminator\n",
    "        self.generator = generator\n",
    "        self.latent_dim = latent_dim\n",
    "        self.gen_loss_tracker = keras.metrics.Mean(name=\"generator_loss\")\n",
    "        self.disc_loss_tracker = keras.metrics.Mean(name=\"discriminator_loss\")\n",
    "\n",
    "    @property\n",
    "    def metrics(self):\n",
    "        return [self.gen_loss_tracker, self.disc_loss_tracker]\n",
    "\n",
    "    def compile(self, d_optimizer, g_optimizer, loss_fn):\n",
    "        super(ConditionalGAN, self).compile()\n",
    "        self.d_optimizer = d_optimizer\n",
    "        self.g_optimizer = g_optimizer\n",
    "        self.loss_fn = loss_fn\n",
    "\n",
    "    def train_step(self, data):\n",
    "        # Unpack the data.\n",
    "        real_images, one_hot_labels = data\n",
    "\n",
    "        # Add dummy dimensions to the labels so that they can be concatenated with\n",
    "        # the images. This is for the discriminator.\n",
    "        image_one_hot_labels = one_hot_labels[:, :, None, None]\n",
    "        image_one_hot_labels = tf.repeat(\n",
    "            image_one_hot_labels, repeats=[image_size * image_size]\n",
    "        )\n",
    "        image_one_hot_labels = tf.reshape(\n",
    "            image_one_hot_labels, (-1, image_size, image_size, num_classes)\n",
    "        )\n",
    "\n",
    "        # Sample random points in the latent space and concatenate the labels.\n",
    "        # This is for the generator.\n",
    "        batch_size = tf.shape(real_images)[0]\n",
    "        random_latent_vectors = tf.random.normal(shape=(batch_size, self.latent_dim))\n",
    "        random_vector_labels = tf.concat(\n",
    "            [random_latent_vectors, one_hot_labels], axis=1\n",
    "        )\n",
    "\n",
    "        # Decode the noise (guided by labels) to fake images.\n",
    "        generated_images = self.generator(random_vector_labels)\n",
    "\n",
    "        # Combine them with real images. Note that we are concatenating the labels\n",
    "        # with these images here.\n",
    "        fake_image_and_labels = tf.concat([generated_images, image_one_hot_labels], -1)\n",
    "        real_image_and_labels = tf.concat([real_images, image_one_hot_labels], -1)\n",
    "        combined_images = tf.concat(\n",
    "            [fake_image_and_labels, real_image_and_labels], axis=0\n",
    "        )\n",
    "\n",
    "        # Assemble labels discriminating real from fake images.\n",
    "        labels = tf.concat(\n",
    "            [tf.ones((batch_size, 1)), tf.zeros((batch_size, 1))], axis=0\n",
    "        )\n",
    "\n",
    "        # Train the discriminator.\n",
    "        with tf.GradientTape() as tape:\n",
    "            predictions = self.discriminator(combined_images)\n",
    "            d_loss = self.loss_fn(labels, predictions)\n",
    "        grads = tape.gradient(d_loss, self.discriminator.trainable_weights)\n",
    "        self.d_optimizer.apply_gradients(\n",
    "            zip(grads, self.discriminator.trainable_weights)\n",
    "        )\n",
    "\n",
    "        # Sample random points in the latent space.\n",
    "        random_latent_vectors = tf.random.normal(shape=(batch_size, self.latent_dim))\n",
    "        random_vector_labels = tf.concat(\n",
    "            [random_latent_vectors, one_hot_labels], axis=1\n",
    "        )\n",
    "\n",
    "        # Assemble labels that say \"all real images\".\n",
    "        misleading_labels = tf.zeros((batch_size, 1))\n",
    "\n",
    "        # Train the generator (note that we should *not* update the weights\n",
    "        # of the discriminator)!\n",
    "        with tf.GradientTape() as tape:\n",
    "            fake_images = self.generator(random_vector_labels)\n",
    "            fake_image_and_labels = tf.concat([fake_images, image_one_hot_labels], -1)\n",
    "            predictions = self.discriminator(fake_image_and_labels)\n",
    "            g_loss = self.loss_fn(misleading_labels, predictions)\n",
    "        grads = tape.gradient(g_loss, self.generator.trainable_weights)\n",
    "        self.g_optimizer.apply_gradients(zip(grads, self.generator.trainable_weights))\n",
    "\n",
    "        # Monitor loss.\n",
    "        self.gen_loss_tracker.update_state(g_loss)\n",
    "        self.disc_loss_tracker.update_state(d_loss)\n",
    "        return {\n",
    "            \"g_loss\": self.gen_loss_tracker.result(),\n",
    "            \"d_loss\": self.disc_loss_tracker.result(),\n",
    "        }"
   ]
  },
  {
   "cell_type": "code",
   "execution_count": 99,
   "metadata": {},
   "outputs": [],
   "source": [
    "cond_gan = ConditionalGAN(\n",
    "    discriminator=discriminator, generator=generator, latent_dim=latent_dim\n",
    ")"
   ]
  },
  {
   "cell_type": "code",
   "execution_count": 100,
   "metadata": {},
   "outputs": [],
   "source": [
    "cond_gan.compile(\n",
    "    d_optimizer=keras.optimizers.Adam(learning_rate=0.0003),\n",
    "    g_optimizer=keras.optimizers.Adam(learning_rate=0.0003),\n",
    "    loss_fn=keras.losses.BinaryCrossentropy(from_logits=True),\n",
    ")"
   ]
  },
  {
   "cell_type": "code",
   "execution_count": 101,
   "metadata": {},
   "outputs": [
    {
     "name": "stdout",
     "output_type": "stream",
     "text": [
      "Epoch 1/20\n"
     ]
    },
    {
     "ename": "ValueError",
     "evalue": "in user code:\n\n    File \"C:\\Users\\Guest-ccc\\anaconda3\\envs\\deeplearning2\\lib\\site-packages\\keras\\engine\\training.py\", line 1249, in train_function  *\n        return step_function(self, iterator)\n    File \"C:\\Users\\Guest-ccc\\anaconda3\\envs\\deeplearning2\\lib\\site-packages\\keras\\engine\\training.py\", line 1233, in step_function  **\n        outputs = model.distribute_strategy.run(run_step, args=(data,))\n    File \"C:\\Users\\Guest-ccc\\anaconda3\\envs\\deeplearning2\\lib\\site-packages\\keras\\engine\\training.py\", line 1222, in run_step  **\n        outputs = model.train_step(data)\n    File \"C:\\Users\\Guest-ccc\\AppData\\Local\\Temp\\ipykernel_11136\\3580991076.py\", line 38, in train_step\n        random_vector_labels = tf.concat(\n\n    ValueError: Dimension 0 in both shapes must be equal, but are 224 and 4. Shapes are [224] and [4]. for '{{node concat}} = ConcatV2[N=2, T=DT_FLOAT, Tidx=DT_INT32](random_normal, IteratorGetNext:1, concat/axis)' with input shapes: [224,128], [4,4], [] and with computed input tensors: input[2] = <1>.\n",
     "output_type": "error",
     "traceback": [
      "\u001b[1;31m---------------------------------------------------------------------------\u001b[0m",
      "\u001b[1;31mValueError\u001b[0m                                Traceback (most recent call last)",
      "Cell \u001b[1;32mIn[101], line 1\u001b[0m\n\u001b[1;32m----> 1\u001b[0m \u001b[43mcond_gan\u001b[49m\u001b[38;5;241;43m.\u001b[39;49m\u001b[43mfit\u001b[49m\u001b[43m(\u001b[49m\u001b[43mdataset\u001b[49m\u001b[43m,\u001b[49m\u001b[43m \u001b[49m\u001b[43mepochs\u001b[49m\u001b[38;5;241;43m=\u001b[39;49m\u001b[38;5;241;43m20\u001b[39;49m\u001b[43m)\u001b[49m\n",
      "File \u001b[1;32m~\\anaconda3\\envs\\deeplearning2\\lib\\site-packages\\keras\\utils\\traceback_utils.py:70\u001b[0m, in \u001b[0;36mfilter_traceback.<locals>.error_handler\u001b[1;34m(*args, **kwargs)\u001b[0m\n\u001b[0;32m     67\u001b[0m     filtered_tb \u001b[38;5;241m=\u001b[39m _process_traceback_frames(e\u001b[38;5;241m.\u001b[39m__traceback__)\n\u001b[0;32m     68\u001b[0m     \u001b[38;5;66;03m# To get the full stack trace, call:\u001b[39;00m\n\u001b[0;32m     69\u001b[0m     \u001b[38;5;66;03m# `tf.debugging.disable_traceback_filtering()`\u001b[39;00m\n\u001b[1;32m---> 70\u001b[0m     \u001b[38;5;28;01mraise\u001b[39;00m e\u001b[38;5;241m.\u001b[39mwith_traceback(filtered_tb) \u001b[38;5;28;01mfrom\u001b[39;00m \u001b[38;5;28mNone\u001b[39m\n\u001b[0;32m     71\u001b[0m \u001b[38;5;28;01mfinally\u001b[39;00m:\n\u001b[0;32m     72\u001b[0m     \u001b[38;5;28;01mdel\u001b[39;00m filtered_tb\n",
      "File \u001b[1;32mC:\\Users\\GUEST-~1\\AppData\\Local\\Temp\\__autograph_generated_filen9u0m4cm.py:15\u001b[0m, in \u001b[0;36mouter_factory.<locals>.inner_factory.<locals>.tf__train_function\u001b[1;34m(iterator)\u001b[0m\n\u001b[0;32m     13\u001b[0m \u001b[38;5;28;01mtry\u001b[39;00m:\n\u001b[0;32m     14\u001b[0m     do_return \u001b[38;5;241m=\u001b[39m \u001b[38;5;28;01mTrue\u001b[39;00m\n\u001b[1;32m---> 15\u001b[0m     retval_ \u001b[38;5;241m=\u001b[39m ag__\u001b[38;5;241m.\u001b[39mconverted_call(ag__\u001b[38;5;241m.\u001b[39mld(step_function), (ag__\u001b[38;5;241m.\u001b[39mld(\u001b[38;5;28mself\u001b[39m), ag__\u001b[38;5;241m.\u001b[39mld(iterator)), \u001b[38;5;28;01mNone\u001b[39;00m, fscope)\n\u001b[0;32m     16\u001b[0m \u001b[38;5;28;01mexcept\u001b[39;00m:\n\u001b[0;32m     17\u001b[0m     do_return \u001b[38;5;241m=\u001b[39m \u001b[38;5;28;01mFalse\u001b[39;00m\n",
      "Cell \u001b[1;32mIn[98], line 38\u001b[0m, in \u001b[0;36mConditionalGAN.train_step\u001b[1;34m(self, data)\u001b[0m\n\u001b[0;32m     36\u001b[0m batch_size \u001b[38;5;241m=\u001b[39m tf\u001b[38;5;241m.\u001b[39mshape(real_images)[\u001b[38;5;241m0\u001b[39m]\n\u001b[0;32m     37\u001b[0m random_latent_vectors \u001b[38;5;241m=\u001b[39m tf\u001b[38;5;241m.\u001b[39mrandom\u001b[38;5;241m.\u001b[39mnormal(shape\u001b[38;5;241m=\u001b[39m(batch_size, \u001b[38;5;28mself\u001b[39m\u001b[38;5;241m.\u001b[39mlatent_dim))\n\u001b[1;32m---> 38\u001b[0m random_vector_labels \u001b[38;5;241m=\u001b[39m \u001b[43mtf\u001b[49m\u001b[38;5;241;43m.\u001b[39;49m\u001b[43mconcat\u001b[49m\u001b[43m(\u001b[49m\n\u001b[0;32m     39\u001b[0m \u001b[43m    \u001b[49m\u001b[43m[\u001b[49m\u001b[43mrandom_latent_vectors\u001b[49m\u001b[43m,\u001b[49m\u001b[43m \u001b[49m\u001b[43mone_hot_labels\u001b[49m\u001b[43m]\u001b[49m\u001b[43m,\u001b[49m\u001b[43m \u001b[49m\u001b[43maxis\u001b[49m\u001b[38;5;241;43m=\u001b[39;49m\u001b[38;5;241;43m1\u001b[39;49m\n\u001b[0;32m     40\u001b[0m \u001b[43m\u001b[49m\u001b[43m)\u001b[49m\n\u001b[0;32m     42\u001b[0m \u001b[38;5;66;03m# Decode the noise (guided by labels) to fake images.\u001b[39;00m\n\u001b[0;32m     43\u001b[0m generated_images \u001b[38;5;241m=\u001b[39m \u001b[38;5;28mself\u001b[39m\u001b[38;5;241m.\u001b[39mgenerator(random_vector_labels)\n",
      "\u001b[1;31mValueError\u001b[0m: in user code:\n\n    File \"C:\\Users\\Guest-ccc\\anaconda3\\envs\\deeplearning2\\lib\\site-packages\\keras\\engine\\training.py\", line 1249, in train_function  *\n        return step_function(self, iterator)\n    File \"C:\\Users\\Guest-ccc\\anaconda3\\envs\\deeplearning2\\lib\\site-packages\\keras\\engine\\training.py\", line 1233, in step_function  **\n        outputs = model.distribute_strategy.run(run_step, args=(data,))\n    File \"C:\\Users\\Guest-ccc\\anaconda3\\envs\\deeplearning2\\lib\\site-packages\\keras\\engine\\training.py\", line 1222, in run_step  **\n        outputs = model.train_step(data)\n    File \"C:\\Users\\Guest-ccc\\AppData\\Local\\Temp\\ipykernel_11136\\3580991076.py\", line 38, in train_step\n        random_vector_labels = tf.concat(\n\n    ValueError: Dimension 0 in both shapes must be equal, but are 224 and 4. Shapes are [224] and [4]. for '{{node concat}} = ConcatV2[N=2, T=DT_FLOAT, Tidx=DT_INT32](random_normal, IteratorGetNext:1, concat/axis)' with input shapes: [224,128], [4,4], [] and with computed input tensors: input[2] = <1>.\n"
     ]
    }
   ],
   "source": [
    "cond_gan.fit(dataset, epochs=20)"
   ]
  },
  {
   "cell_type": "code",
   "execution_count": null,
   "metadata": {},
   "outputs": [],
   "source": []
  }
 ],
 "metadata": {
  "accelerator": "GPU",
  "colab": {
   "provenance": []
  },
  "gpuClass": "standard",
  "kernelspec": {
   "display_name": "Python 3 (ipykernel)",
   "language": "python",
   "name": "python3"
  },
  "language_info": {
   "codemirror_mode": {
    "name": "ipython",
    "version": 3
   },
   "file_extension": ".py",
   "mimetype": "text/x-python",
   "name": "python",
   "nbconvert_exporter": "python",
   "pygments_lexer": "ipython3",
   "version": "3.10.8"
  }
 },
 "nbformat": 4,
 "nbformat_minor": 1
}
